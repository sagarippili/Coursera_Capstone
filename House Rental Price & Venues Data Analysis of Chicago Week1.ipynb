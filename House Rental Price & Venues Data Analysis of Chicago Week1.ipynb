{
 "cells": [
  {
   "cell_type": "markdown",
   "metadata": {},
   "source": [
    "# House Rental Price & Venues Data Analysis of Chicago\n",
    "### IBM/Coursera's Applied Data Science Capstone Project - The Battle of the Neighborhoods (Week 1)"
   ]
  },
  {
   "cell_type": "markdown",
   "metadata": {},
   "source": [
    "![](chicago_skyline.jpg)"
   ]
  },
  {
   "cell_type": "markdown",
   "metadata": {},
   "source": [
    "## Table of contents\n",
    "* [Introduction: Business Problem](#introduction)\n",
    "* [Data](#data)"
   ]
  },
  {
   "cell_type": "markdown",
   "metadata": {},
   "source": [
    "## Introduction: Business Problem <a name=\"introduction\"></a>"
   ]
  },
  {
   "cell_type": "markdown",
   "metadata": {},
   "source": [
    "The City of Chicago is the most populous city in the U.S. state of Illinois, and the third-most-populous city in the United States. With an estimated population of 2,705,994 (2018), it is also the most populous city in the Midwestern United States. Chicago is the county seat of Cook County, the second-most-populous county in the US, with a small portion of the northwest side of the city extending into DuPage County near O'Hare Airport. Chicago is the principal city of the Chicago metropolitan area, often referred to as Chicagoland. At nearly 10 million people, the metropolitan area is the third most populous in the United States.\n",
    "\n",
    "Being such a crowded city leads the owners of shops and social sharing places in the city where the population is dense. When we think of the people moving to Chicago city, they may want to choose the regions where rental values are lower. At the same time, they may want to choose the neighborhood according to the social places density. However, it is difficult to obtain information that will guide investors in this direction, nowadays.\n",
    "\n",
    "In this project we will help people who are moving to and looking for renting an apartment in Chicago or Chicago residents who have been already living here. We can answer questions like\n",
    "- People moving to Chicago:\n",
    "    - Which neighborhood has cheaper rent\n",
    "    - If a neighborhood is residential or commercial areas \n",
    "- City residents of Chicago:\n",
    "    - If they are paying more than the average price for their apartment\n",
    "    - If there are similar neighborhoodsto theirs with lower rents\n",
    "\n",
    "When we consider all these problems, we can create a map and information chart where the rental price index is placed on Chicago and each neighborhood is clustered according to the venue density."
   ]
  },
  {
   "cell_type": "markdown",
   "metadata": {},
   "source": [
    "## Data <a name=\"data\"></a>"
   ]
  },
  {
   "cell_type": "markdown",
   "metadata": {},
   "source": [
    "To consider the problem we can list the datas as below:\n",
    "\n",
    "- I found the Chicago Neighborhood Boundaries' spatial file from the City of Chicago Data Portal [2]. The .geojson file has coordinates of the all city of Chicago. I used it to create choropleth map of Rental Price Index of Chicago.\n",
    "\n",
    "- I used Forsquare API to get the most common venues of given neighborhood of Chicago [3].\n",
    "\n",
    "- The data on apartments (sqft, number of rooms, postal code, and price) is collected by scraping a local website with apartment listings (zillow.com) [4].\n",
    "\n",
    "- I used Google Geoencoder, Nominatim to get the coordinates for City of Chicago and neighborhoods. [5]."
   ]
  }
 ],
 "metadata": {
  "kernelspec": {
   "display_name": "Python 3",
   "language": "python",
   "name": "python3"
  },
  "language_info": {
   "codemirror_mode": {
    "name": "ipython",
    "version": 3
   },
   "file_extension": ".py",
   "mimetype": "text/x-python",
   "name": "python",
   "nbconvert_exporter": "python",
   "pygments_lexer": "ipython3",
   "version": "3.7.6"
  }
 },
 "nbformat": 4,
 "nbformat_minor": 4
}
